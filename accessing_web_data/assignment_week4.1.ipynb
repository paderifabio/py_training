{
 "cells": [
  {
   "cell_type": "code",
   "execution_count": 2,
   "metadata": {},
   "outputs": [],
   "source": [
    "import urllib.request, urllib.parse, urllib.error\n",
    "from bs4 import BeautifulSoup\n",
    "import ssl\n",
    "\n",
    "# serve per ignorare gli errori SSL\n",
    "ctx = ssl.create_default_context()\n",
    "ctx.check_hostname = False\n",
    "ctx.verify_mode = ssl.CERT_NONE\n",
    "\n",
    "url = 'http://py4e-data.dr-chuck.net/comments_508656.html'\n",
    "html = urllib.request.urlopen(url, context=ctx).read()\n",
    "soup = BeautifulSoup(html, 'html.parser')\n",
    "\n",
    "# Retrieve all of the anchor tags\n",
    "tags = soup('li')\n",
    "for tag in tags:\n",
    "    print(tag.get('href', None))"
   ]
  },
  {
   "cell_type": "code",
   "execution_count": 14,
   "metadata": {
    "scrolled": true
   },
   "outputs": [
    {
     "name": "stdout",
     "output_type": "stream",
     "text": [
      "2739\n"
     ]
    }
   ],
   "source": [
    "import re\n",
    "\n",
    "numlist = []\n",
    "tags = soup('tr')\n",
    "for tag in tags:\n",
    "    tag = str(tag)\n",
    "    numbers = re.findall('[0-9]+', tag)\n",
    "    for n in numbers:\n",
    "        n = int(n)\n",
    "        numlist.append(n)\n",
    "print(sum(numlist))\n",
    "    "
   ]
  },
  {
   "cell_type": "code",
   "execution_count": null,
   "metadata": {},
   "outputs": [],
   "source": []
  },
  {
   "cell_type": "code",
   "execution_count": null,
   "metadata": {},
   "outputs": [],
   "source": []
  },
  {
   "cell_type": "code",
   "execution_count": null,
   "metadata": {},
   "outputs": [],
   "source": []
  },
  {
   "cell_type": "code",
   "execution_count": null,
   "metadata": {},
   "outputs": [],
   "source": []
  },
  {
   "cell_type": "code",
   "execution_count": null,
   "metadata": {},
   "outputs": [],
   "source": []
  },
  {
   "cell_type": "code",
   "execution_count": null,
   "metadata": {},
   "outputs": [],
   "source": []
  },
  {
   "cell_type": "code",
   "execution_count": null,
   "metadata": {},
   "outputs": [],
   "source": []
  },
  {
   "cell_type": "code",
   "execution_count": null,
   "metadata": {},
   "outputs": [],
   "source": []
  },
  {
   "cell_type": "code",
   "execution_count": null,
   "metadata": {},
   "outputs": [],
   "source": []
  },
  {
   "cell_type": "code",
   "execution_count": null,
   "metadata": {},
   "outputs": [],
   "source": []
  },
  {
   "cell_type": "code",
   "execution_count": null,
   "metadata": {},
   "outputs": [],
   "source": []
  },
  {
   "cell_type": "code",
   "execution_count": 3,
   "metadata": {},
   "outputs": [
    {
     "data": {
      "text/plain": [
       "<html>\n",
       "<head>\n",
       "<title>Welcome to the comments assignment from www.py4e.com</title>\n",
       "</head>\n",
       "<body>\n",
       "<h1>This file contains the actual data for your assignment - good luck!</h1>\n",
       "<table border=\"2\">\n",
       "<tr>\n",
       "<td>Name</td><td>Comments</td>\n",
       "</tr>\n",
       "<tr><td>Tobie</td><td><span class=\"comments\">98</span></td></tr>\n",
       "<tr><td>Prabhasees</td><td><span class=\"comments\">98</span></td></tr>\n",
       "<tr><td>Maisum</td><td><span class=\"comments\">95</span></td></tr>\n",
       "<tr><td>Aron</td><td><span class=\"comments\">93</span></td></tr>\n",
       "<tr><td>Dennin</td><td><span class=\"comments\">93</span></td></tr>\n",
       "<tr><td>Maris</td><td><span class=\"comments\">91</span></td></tr>\n",
       "<tr><td>Izzah</td><td><span class=\"comments\">88</span></td></tr>\n",
       "<tr><td>Talon</td><td><span class=\"comments\">87</span></td></tr>\n",
       "<tr><td>Fern</td><td><span class=\"comments\">81</span></td></tr>\n",
       "<tr><td>Hazel</td><td><span class=\"comments\">81</span></td></tr>\n",
       "<tr><td>Soma</td><td><span class=\"comments\">80</span></td></tr>\n",
       "<tr><td>Cameron</td><td><span class=\"comments\">80</span></td></tr>\n",
       "<tr><td>Jenna</td><td><span class=\"comments\">80</span></td></tr>\n",
       "<tr><td>Ketsia</td><td><span class=\"comments\">79</span></td></tr>\n",
       "<tr><td>Madaki</td><td><span class=\"comments\">79</span></td></tr>\n",
       "<tr><td>Carter</td><td><span class=\"comments\">75</span></td></tr>\n",
       "<tr><td>Teresa</td><td><span class=\"comments\">69</span></td></tr>\n",
       "<tr><td>Marcello</td><td><span class=\"comments\">68</span></td></tr>\n",
       "<tr><td>Zuzu</td><td><span class=\"comments\">67</span></td></tr>\n",
       "<tr><td>Ruaridh</td><td><span class=\"comments\">66</span></td></tr>\n",
       "<tr><td>Sayad</td><td><span class=\"comments\">64</span></td></tr>\n",
       "<tr><td>Asena</td><td><span class=\"comments\">57</span></td></tr>\n",
       "<tr><td>Suzi</td><td><span class=\"comments\">56</span></td></tr>\n",
       "<tr><td>Zakariya</td><td><span class=\"comments\">56</span></td></tr>\n",
       "<tr><td>Laila</td><td><span class=\"comments\">55</span></td></tr>\n",
       "<tr><td>Julieanne</td><td><span class=\"comments\">53</span></td></tr>\n",
       "<tr><td>Mark</td><td><span class=\"comments\">49</span></td></tr>\n",
       "<tr><td>Benjamyn</td><td><span class=\"comments\">49</span></td></tr>\n",
       "<tr><td>Eman</td><td><span class=\"comments\">48</span></td></tr>\n",
       "<tr><td>Adain</td><td><span class=\"comments\">46</span></td></tr>\n",
       "<tr><td>Shahna</td><td><span class=\"comments\">46</span></td></tr>\n",
       "<tr><td>Leigh</td><td><span class=\"comments\">43</span></td></tr>\n",
       "<tr><td>Breagha</td><td><span class=\"comments\">42</span></td></tr>\n",
       "<tr><td>Aaima</td><td><span class=\"comments\">38</span></td></tr>\n",
       "<tr><td>Lyla</td><td><span class=\"comments\">38</span></td></tr>\n",
       "<tr><td>Tilda</td><td><span class=\"comments\">36</span></td></tr>\n",
       "<tr><td>Otilia</td><td><span class=\"comments\">35</span></td></tr>\n",
       "<tr><td>Digby</td><td><span class=\"comments\">33</span></td></tr>\n",
       "<tr><td>Marlie</td><td><span class=\"comments\">31</span></td></tr>\n",
       "<tr><td>Kelisse</td><td><span class=\"comments\">30</span></td></tr>\n",
       "<tr><td>Anureet</td><td><span class=\"comments\">28</span></td></tr>\n",
       "<tr><td>Cathryn</td><td><span class=\"comments\">27</span></td></tr>\n",
       "<tr><td>Hariot</td><td><span class=\"comments\">23</span></td></tr>\n",
       "<tr><td>Dara</td><td><span class=\"comments\">23</span></td></tr>\n",
       "<tr><td>Mahan</td><td><span class=\"comments\">23</span></td></tr>\n",
       "<tr><td>Rob</td><td><span class=\"comments\">23</span></td></tr>\n",
       "<tr><td>Chrystal</td><td><span class=\"comments\">20</span></td></tr>\n",
       "<tr><td>Imman</td><td><span class=\"comments\">8</span></td></tr>\n",
       "<tr><td>Kasja</td><td><span class=\"comments\">7</span></td></tr>\n",
       "<tr><td>Zarran</td><td><span class=\"comments\">4</span></td></tr>\n",
       "</table>\n",
       "</body>\n",
       "</html>"
      ]
     },
     "execution_count": 3,
     "metadata": {},
     "output_type": "execute_result"
    }
   ],
   "source": [
    "soup"
   ]
  },
  {
   "cell_type": "code",
   "execution_count": null,
   "metadata": {},
   "outputs": [],
   "source": []
  },
  {
   "cell_type": "code",
   "execution_count": null,
   "metadata": {},
   "outputs": [],
   "source": []
  },
  {
   "cell_type": "code",
   "execution_count": null,
   "metadata": {
    "scrolled": false
   },
   "outputs": [],
   "source": []
  },
  {
   "cell_type": "code",
   "execution_count": null,
   "metadata": {
    "scrolled": true
   },
   "outputs": [],
   "source": []
  },
  {
   "cell_type": "code",
   "execution_count": null,
   "metadata": {
    "scrolled": true
   },
   "outputs": [],
   "source": []
  },
  {
   "cell_type": "code",
   "execution_count": null,
   "metadata": {},
   "outputs": [],
   "source": []
  },
  {
   "cell_type": "code",
   "execution_count": null,
   "metadata": {},
   "outputs": [],
   "source": []
  },
  {
   "cell_type": "code",
   "execution_count": null,
   "metadata": {},
   "outputs": [],
   "source": []
  },
  {
   "cell_type": "code",
   "execution_count": null,
   "metadata": {},
   "outputs": [],
   "source": []
  },
  {
   "cell_type": "code",
   "execution_count": null,
   "metadata": {},
   "outputs": [],
   "source": []
  },
  {
   "cell_type": "code",
   "execution_count": null,
   "metadata": {},
   "outputs": [],
   "source": []
  },
  {
   "cell_type": "code",
   "execution_count": null,
   "metadata": {},
   "outputs": [],
   "source": []
  },
  {
   "cell_type": "code",
   "execution_count": null,
   "metadata": {},
   "outputs": [],
   "source": []
  },
  {
   "cell_type": "code",
   "execution_count": null,
   "metadata": {},
   "outputs": [],
   "source": []
  },
  {
   "cell_type": "code",
   "execution_count": null,
   "metadata": {},
   "outputs": [],
   "source": []
  },
  {
   "cell_type": "code",
   "execution_count": null,
   "metadata": {},
   "outputs": [],
   "source": []
  },
  {
   "cell_type": "code",
   "execution_count": null,
   "metadata": {},
   "outputs": [],
   "source": []
  },
  {
   "cell_type": "code",
   "execution_count": null,
   "metadata": {},
   "outputs": [],
   "source": []
  },
  {
   "cell_type": "code",
   "execution_count": null,
   "metadata": {},
   "outputs": [],
   "source": []
  },
  {
   "cell_type": "code",
   "execution_count": null,
   "metadata": {},
   "outputs": [],
   "source": []
  },
  {
   "cell_type": "code",
   "execution_count": null,
   "metadata": {},
   "outputs": [],
   "source": []
  },
  {
   "cell_type": "code",
   "execution_count": null,
   "metadata": {},
   "outputs": [],
   "source": []
  },
  {
   "cell_type": "code",
   "execution_count": null,
   "metadata": {},
   "outputs": [],
   "source": []
  },
  {
   "cell_type": "code",
   "execution_count": null,
   "metadata": {},
   "outputs": [],
   "source": []
  },
  {
   "cell_type": "code",
   "execution_count": null,
   "metadata": {},
   "outputs": [],
   "source": []
  },
  {
   "cell_type": "code",
   "execution_count": null,
   "metadata": {},
   "outputs": [],
   "source": []
  },
  {
   "cell_type": "code",
   "execution_count": null,
   "metadata": {},
   "outputs": [],
   "source": []
  },
  {
   "cell_type": "code",
   "execution_count": null,
   "metadata": {},
   "outputs": [],
   "source": []
  },
  {
   "cell_type": "code",
   "execution_count": null,
   "metadata": {},
   "outputs": [],
   "source": []
  },
  {
   "cell_type": "code",
   "execution_count": null,
   "metadata": {},
   "outputs": [],
   "source": []
  },
  {
   "cell_type": "code",
   "execution_count": null,
   "metadata": {},
   "outputs": [],
   "source": []
  },
  {
   "cell_type": "code",
   "execution_count": null,
   "metadata": {},
   "outputs": [],
   "source": []
  },
  {
   "cell_type": "code",
   "execution_count": null,
   "metadata": {},
   "outputs": [],
   "source": []
  }
 ],
 "metadata": {
  "kernelspec": {
   "display_name": "Python 3",
   "language": "python",
   "name": "python3"
  },
  "language_info": {
   "codemirror_mode": {
    "name": "ipython",
    "version": 3
   },
   "file_extension": ".py",
   "mimetype": "text/x-python",
   "name": "python",
   "nbconvert_exporter": "python",
   "pygments_lexer": "ipython3",
   "version": "3.7.4"
  }
 },
 "nbformat": 4,
 "nbformat_minor": 4
}
